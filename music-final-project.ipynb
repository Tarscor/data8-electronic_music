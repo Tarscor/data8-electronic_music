{
 "cells": [
  {
   "cell_type": "code",
   "execution_count": 2,
   "metadata": {},
   "outputs": [
    {
     "name": "stdout",
     "output_type": "stream",
     "text": [
      "=====================================================================\n",
      "Assignment: Final Project: Free Music Archive\n",
      "OK, version v1.12.5\n",
      "=====================================================================\n",
      "\n",
      "\n",
      "Open the following URL:\n",
      "\n",
      "https://okpy.org/client/login/\n",
      "\n",
      "After logging in, copy the code from the web page and paste it into the box.\n",
      "Then press the \"Enter\" key on your keyboard.\n",
      "\n",
      "Paste your code here: F5lg26zxo71CWpkdcKAQTpT2LWZqUL\n",
      "Successfully logged in as tarususu.t3@berkeley.edu\n"
     ]
    }
   ],
   "source": [
    "# modules for research report\n",
    "from datascience import *\n",
    "import numpy as np\n",
    "import random\n",
    "%matplotlib inline\n",
    "import matplotlib.pyplot as plots\n",
    "plots.style.use('fivethirtyeight')\n",
    "\n",
    "# module for YouTube video\n",
    "from IPython.display import YouTubeVideo\n",
    "\n",
    "# okpy config\n",
    "from client.api.notebook import Notebook\n",
    "ok = Notebook('music-final-project.ok')\n",
    "_ = ok.auth(inline=True)"
   ]
  },
  {
   "cell_type": "markdown",
   "metadata": {},
   "source": [
    "# Free Music Archive: A Dataset For Music Analysis"
   ]
  },
  {
   "cell_type": "markdown",
   "metadata": {},
   "source": [
    "This dataset was introduced by Michaël Defferrard, Kirell Benzi, Pierre Vandergheynst, and Xavier Bresson at the International Society for Music Information Retrieval (MIR) Conference in 2017.\n",
    "It has been cleaned for your convenience: all missing values have been removed, and low-quality observations and variables have been filtered out. A brief summary of the dataset, originally\n",
    "given at the conference, is provided below. \n",
    "\n",
    "**NB: You may not copy any public analyses of this dataset. Doing so will result in a zero.**"
   ]
  },
  {
   "cell_type": "markdown",
   "metadata": {},
   "source": [
    "## Summary\n",
    "\n",
    ">We introduce the Free Music Archive (FMA), an open and easily accessible dataset suitable for evaluating several tasks in MIR, a field concerned with browsing, searching, and\n",
    "organizing large music collections. The community's growing interest in feature and end-to-end learning is however restrained by the limited availability of large audio datasets.\n",
    "The FMA aims to overcome this hurdle by providing 917 GiB and 343 days of Creative Commons-licensed audio from 106,574 tracks from 16,341 artists and 14,854 albums, arranged in a\n",
    "hierarchical taxonomy of 161 genres. It provides full-length and high-quality audio, pre-computed features, together with track- and user-level metadata, tags, and free-form text\n",
    "such as biographies.\n",
    "\n",
    "A small, random subset of this larger dataset is provided to you."
   ]
  },
  {
   "cell_type": "markdown",
   "metadata": {},
   "source": [
    "## Data Description\n",
    "\n",
    "This dataset consists of three tables stored in the `data` folder:\n",
    "1. `tracks` provides information on individual tracks.\n",
    "2. `genres` contains information on all of the genres.\n",
    "3. `features` contains information on the Spotify audio features of each track.\n",
    "\n",
    "A description of each table's variables is provided below:\n",
    "\n",
    "`tracks`:\n",
    "* `track_id`: a unique ID for each track\n",
    "* `track_title`: title of each track\n",
    "* `artist_name`: name of the artist\n",
    "* `album_title`: title of the album that the track comes from\n",
    "* `track_duration`: the length of the song in seconds\n",
    "* `track_genre`: the genre(s) that the track fall(s) into\n",
    "* `album_date_released`: a string indicating the album release date\n",
    "* `album_type`: specifies whether the album is studio-recorded, live, or from a radio program\n",
    "* `album_tracks`: number of tracks on the album\n",
    "\n",
    "`genres`:\n",
    "* `genre_id`: a unique ID for each genre\n",
    "* `title`: the name of the genre\n",
    "* `# tracks`: the number of tracks that fall into this genre\n",
    "* `parent`: the genre that this subgenre falls under (will be 0 if not a subgenre)\n",
    "\n",
    "`features` (descriptions from the [Spotify API page](https://developer.spotify.com/documentation/web-api/reference/tracks/get-audio-features/)):\n",
    "* `track_id`: a unique ID for each track\n",
    "* `acousticness`: A confidence measure from 0.0 to 1.0 of whether the track is acoustic. 1.0 represents high confidence the track is acoustic.\n",
    "* `danceability`: Danceability describes how suitable a track is for dancing based on a combination of musical elements including tempo, rhythm stability, beat strength, and overall regularity. A value of 0.0 is least danceable and 1.0 is most danceable.\n",
    "* `energy`: Energy is a measure from 0.0 to 1.0 and represents a perceptual measure of intensity and activity. Typically, energetic tracks feel fast, loud, and noisy. For example, death metal has high energy, while a Bach prelude scores low on the scale.\n",
    "* `instrumentalness`: Predicts whether a track contains no vocals. “Ooh” and “aah” sounds are treated as instrumental in this context. Rap or spoken word tracks are clearly “vocal”. The closer the instrumentalness value is to 1.0, the greater likelihood the track contains no vocal content. \n",
    "* `liveness\t`: Detects the presence of an audience in the recording. Higher liveness values represent an increased probability that the track was performed live.\n",
    "* `speechiness`: Speechiness detects the presence of spoken words in a track. The more exclusively speech-like the recording (e.g. talk show, audio book, poetry), the closer to 1.0 the attribute value. \n",
    "* `tempo`: The overall estimated tempo of a track in beats per minute (BPM). In musical terminology, tempo is the speed or pace of a given piece and derives directly from the average beat duration. \n",
    "* `valence`: \tA measure from 0.0 to 1.0 describing the musical positiveness conveyed by a track. Tracks with high valence sound more positive (e.g. happy, cheerful, euphoric), while tracks with low valence sound more negative (e.g. sad, depressed, angry)."
   ]
  },
  {
   "cell_type": "markdown",
   "metadata": {},
   "source": [
    "## Inspiration\n",
    "\n",
    "A variety of exploratory analyses, hypothesis tests, and predictions problems can tackled with this data. Here are a few ideas to get\n",
    "you started:\n",
    "\n",
    "\n",
    "1. Which genre has the longest songs?\n",
    "3. Is there a relationship between danceability and energy? What about danceability and valence?\n",
    "4. Can you classify which genre (of [pick 2 once we see data]) based on its features?\n",
    "5. Do (pick 2 genres or parent genres) have the same average energy?\n",
    "\n",
    "Don't forget to review the [Final Project Guidelines](https://docs.google.com/document/d/1NuHDYTdWGwhPNRov8Y3I8y6R7Rbyf-WDOfQwovD-gmw/edit?usp=sharing) for a complete list of requirements."
   ]
  },
  {
   "cell_type": "markdown",
   "metadata": {},
   "source": [
    "## Preview\n",
    "\n",
    "The tables are loaded in the code cells below. Take some time to explore them!"
   ]
  },
  {
   "cell_type": "code",
   "execution_count": 3,
   "metadata": {},
   "outputs": [
    {
     "data": {
      "text/html": [
       "<table border=\"1\" class=\"dataframe\">\n",
       "    <thead>\n",
       "        <tr>\n",
       "            <th>genre_id</th> <th>title</th> <th>#tracks</th> <th>parent</th>\n",
       "        </tr>\n",
       "    </thead>\n",
       "    <tbody>\n",
       "        <tr>\n",
       "            <td>1       </td> <td>Avant-Garde        </td> <td>8693   </td> <td>38    </td>\n",
       "        </tr>\n",
       "        <tr>\n",
       "            <td>2       </td> <td>International      </td> <td>5271   </td> <td>0     </td>\n",
       "        </tr>\n",
       "        <tr>\n",
       "            <td>3       </td> <td>Blues              </td> <td>1752   </td> <td>0     </td>\n",
       "        </tr>\n",
       "        <tr>\n",
       "            <td>4       </td> <td>Jazz               </td> <td>4126   </td> <td>0     </td>\n",
       "        </tr>\n",
       "        <tr>\n",
       "            <td>5       </td> <td>Classical          </td> <td>4106   </td> <td>0     </td>\n",
       "        </tr>\n",
       "        <tr>\n",
       "            <td>6       </td> <td>Novelty            </td> <td>914    </td> <td>38    </td>\n",
       "        </tr>\n",
       "        <tr>\n",
       "            <td>7       </td> <td>Comedy             </td> <td>217    </td> <td>20    </td>\n",
       "        </tr>\n",
       "        <tr>\n",
       "            <td>8       </td> <td>Old-Time / Historic</td> <td>868    </td> <td>0     </td>\n",
       "        </tr>\n",
       "        <tr>\n",
       "            <td>9       </td> <td>Country            </td> <td>1987   </td> <td>0     </td>\n",
       "        </tr>\n",
       "        <tr>\n",
       "            <td>10      </td> <td>Pop                </td> <td>13845  </td> <td>0     </td>\n",
       "        </tr>\n",
       "    </tbody>\n",
       "</table>\n",
       "<p>... (153 rows omitted)</p>"
      ],
      "text/plain": [
       "genre_id | title               | #tracks | parent\n",
       "1        | Avant-Garde         | 8693    | 38\n",
       "2        | International       | 5271    | 0\n",
       "3        | Blues               | 1752    | 0\n",
       "4        | Jazz                | 4126    | 0\n",
       "5        | Classical           | 4106    | 0\n",
       "6        | Novelty             | 914     | 38\n",
       "7        | Comedy              | 217     | 20\n",
       "8        | Old-Time / Historic | 868     | 0\n",
       "9        | Country             | 1987    | 0\n",
       "10       | Pop                 | 13845   | 0\n",
       "... (153 rows omitted)"
      ]
     },
     "execution_count": 3,
     "metadata": {},
     "output_type": "execute_result"
    }
   ],
   "source": [
    "#load genres\n",
    "genres = Table().read_table(\"data/genres_final.csv\")\n",
    "genres"
   ]
  },
  {
   "cell_type": "code",
   "execution_count": 4,
   "metadata": {},
   "outputs": [
    {
     "data": {
      "text/html": [
       "<table border=\"1\" class=\"dataframe\">\n",
       "    <thead>\n",
       "        <tr>\n",
       "            <th>track_id</th> <th>acousticness</th> <th>danceability</th> <th>energy</th> <th>instrumentalness</th> <th>liveness</th> <th>speechiness</th> <th>tempo</th> <th>valence</th>\n",
       "        </tr>\n",
       "    </thead>\n",
       "    <tbody>\n",
       "        <tr>\n",
       "            <td>145     </td> <td>0.235506    </td> <td>0.438672    </td> <td>0.487752 </td> <td>0.716122        </td> <td>0.0703593</td> <td>0.0472978  </td> <td>120.79 </td> <td>0.650452 </td>\n",
       "        </tr>\n",
       "        <tr>\n",
       "            <td>155     </td> <td>0.981657    </td> <td>0.142249    </td> <td>0.912122 </td> <td>0.967294        </td> <td>0.36351  </td> <td>0.087527   </td> <td>91.912 </td> <td>0.0343253</td>\n",
       "        </tr>\n",
       "        <tr>\n",
       "            <td>201     </td> <td>0.991813    </td> <td>0.461855    </td> <td>0.543751 </td> <td>0.964922        </td> <td>0.137006 </td> <td>0.0256877  </td> <td>93.945 </td> <td>0.758632 </td>\n",
       "        </tr>\n",
       "        <tr>\n",
       "            <td>307     </td> <td>0.77377     </td> <td>0.552026    </td> <td>0.251328 </td> <td>0.568976        </td> <td>0.110743 </td> <td>0.0506326  </td> <td>117.247</td> <td>0.356984 </td>\n",
       "        </tr>\n",
       "        <tr>\n",
       "            <td>309     </td> <td>0.335481    </td> <td>0.390263    </td> <td>0.0210674</td> <td>0.937508        </td> <td>0.0890457</td> <td>0.0414906  </td> <td>60.382 </td> <td>0.0399321</td>\n",
       "        </tr>\n",
       "        <tr>\n",
       "            <td>319     </td> <td>0.890498    </td> <td>0.316413    </td> <td>0.0596131</td> <td>0.913303        </td> <td>0.108808 </td> <td>0.0387785  </td> <td>133.934</td> <td>0.122417 </td>\n",
       "        </tr>\n",
       "        <tr>\n",
       "            <td>327     </td> <td>0.928171    </td> <td>0.553091    </td> <td>0.303937 </td> <td>0.95423         </td> <td>0.110752 </td> <td>0.107401   </td> <td>110.039</td> <td>0.616368 </td>\n",
       "        </tr>\n",
       "        <tr>\n",
       "            <td>328     </td> <td>0.297541    </td> <td>0.624953    </td> <td>0.176884 </td> <td>0.815871        </td> <td>0.0928226</td> <td>0.0551486  </td> <td>114.858</td> <td>0.503635 </td>\n",
       "        </tr>\n",
       "        <tr>\n",
       "            <td>350     </td> <td>0.989664    </td> <td>0.463938    </td> <td>0.363612 </td> <td>0.919011        </td> <td>0.11874  </td> <td>0.0376218  </td> <td>99.384 </td> <td>0.591003 </td>\n",
       "        </tr>\n",
       "        <tr>\n",
       "            <td>364     </td> <td>0.98638     </td> <td>0.61286     </td> <td>0.15611  </td> <td>0.104549        </td> <td>0.107289 </td> <td>0.198543   </td> <td>109.256</td> <td>0.483544 </td>\n",
       "        </tr>\n",
       "    </tbody>\n",
       "</table>\n",
       "<p>... (449 rows omitted)</p>"
      ],
      "text/plain": [
       "track_id | acousticness | danceability | energy    | instrumentalness | liveness  | speechiness | tempo   | valence\n",
       "145      | 0.235506     | 0.438672     | 0.487752  | 0.716122         | 0.0703593 | 0.0472978   | 120.79  | 0.650452\n",
       "155      | 0.981657     | 0.142249     | 0.912122  | 0.967294         | 0.36351   | 0.087527    | 91.912  | 0.0343253\n",
       "201      | 0.991813     | 0.461855     | 0.543751  | 0.964922         | 0.137006  | 0.0256877   | 93.945  | 0.758632\n",
       "307      | 0.77377      | 0.552026     | 0.251328  | 0.568976         | 0.110743  | 0.0506326   | 117.247 | 0.356984\n",
       "309      | 0.335481     | 0.390263     | 0.0210674 | 0.937508         | 0.0890457 | 0.0414906   | 60.382  | 0.0399321\n",
       "319      | 0.890498     | 0.316413     | 0.0596131 | 0.913303         | 0.108808  | 0.0387785   | 133.934 | 0.122417\n",
       "327      | 0.928171     | 0.553091     | 0.303937  | 0.95423          | 0.110752  | 0.107401    | 110.039 | 0.616368\n",
       "328      | 0.297541     | 0.624953     | 0.176884  | 0.815871         | 0.0928226 | 0.0551486   | 114.858 | 0.503635\n",
       "350      | 0.989664     | 0.463938     | 0.363612  | 0.919011         | 0.11874   | 0.0376218   | 99.384  | 0.591003\n",
       "364      | 0.98638      | 0.61286      | 0.15611   | 0.104549         | 0.107289  | 0.198543    | 109.256 | 0.483544\n",
       "... (449 rows omitted)"
      ]
     },
     "execution_count": 4,
     "metadata": {},
     "output_type": "execute_result"
    }
   ],
   "source": [
    "#load features\n",
    "features = Table().read_table(\"data/features_final.csv\")\n",
    "features"
   ]
  },
  {
   "cell_type": "code",
   "execution_count": 5,
   "metadata": {},
   "outputs": [
    {
     "data": {
      "text/html": [
       "<table border=\"1\" class=\"dataframe\">\n",
       "    <thead>\n",
       "        <tr>\n",
       "            <th>track_id</th> <th>track_title</th> <th>artist_name</th> <th>album_title</th> <th>track_duration</th> <th>track_genre</th> <th>album_date_released</th> <th>album_type</th> <th>album_tracks</th>\n",
       "        </tr>\n",
       "    </thead>\n",
       "    <tbody>\n",
       "        <tr>\n",
       "            <td>145     </td> <td>Amoebiasis              </td> <td>Amoebic Ensemble</td> <td>Amoebiasis                     </td> <td>326           </td> <td>Jazz       </td> <td>2009-01-06         </td> <td>Album        </td> <td>0           </td>\n",
       "        </tr>\n",
       "        <tr>\n",
       "            <td>155     </td> <td>Maps of the Stars Homes </td> <td>Arc and Sender  </td> <td>unreleased demo                </td> <td>756           </td> <td>Rock       </td> <td>2009-01-06         </td> <td>Single Tracks</td> <td>1           </td>\n",
       "        </tr>\n",
       "        <tr>\n",
       "            <td>201     </td> <td>Big City                </td> <td>Ed Askew        </td> <td>What I Know                    </td> <td>210           </td> <td>Folk       </td> <td>2009-01-07         </td> <td>Album        </td> <td>10          </td>\n",
       "        </tr>\n",
       "        <tr>\n",
       "            <td>307     </td> <td>Out on the farm         </td> <td>Blah Blah Blah  </td> <td>Green Collection               </td> <td>205           </td> <td>Rock       </td> <td>2007-09-01         </td> <td>Album        </td> <td>0           </td>\n",
       "        </tr>\n",
       "        <tr>\n",
       "            <td>309     </td> <td>Where are all the people</td> <td>Blah Blah Blah  </td> <td>Green Collection               </td> <td>229           </td> <td>Rock       </td> <td>2007-09-01         </td> <td>Album        </td> <td>0           </td>\n",
       "        </tr>\n",
       "        <tr>\n",
       "            <td>319     </td> <td>Complete Shakespeare    </td> <td>Blah Blah Blah  </td> <td>Green Collection               </td> <td>156           </td> <td>Rock       </td> <td>2007-09-01         </td> <td>Album        </td> <td>0           </td>\n",
       "        </tr>\n",
       "        <tr>\n",
       "            <td>327     </td> <td>Hands Beckoning         </td> <td>Blah Blah Blah  </td> <td>Stripey Collection             </td> <td>259           </td> <td>Rock       </td> <td>1982-04-06         </td> <td>Album        </td> <td>0           </td>\n",
       "        </tr>\n",
       "        <tr>\n",
       "            <td>328     </td> <td>Central Park            </td> <td>Blah Blah Blah  </td> <td>Stripey Collection             </td> <td>236           </td> <td>Rock       </td> <td>1982-04-06         </td> <td>Album        </td> <td>0           </td>\n",
       "        </tr>\n",
       "        <tr>\n",
       "            <td>350     </td> <td>Gotta Go                </td> <td>Blah Blah Blah  </td> <td>30th Anniversary Blah Blah Blah</td> <td>101           </td> <td>Rock       </td> <td>2009-01-01         </td> <td>Album        </td> <td>21          </td>\n",
       "        </tr>\n",
       "        <tr>\n",
       "            <td>364     </td> <td>Sunspot activity        </td> <td>Blah Blah Blah  </td> <td>30th Anniversary Blah Blah Blah</td> <td>152           </td> <td>Rock       </td> <td>2009-01-01         </td> <td>Album        </td> <td>21          </td>\n",
       "        </tr>\n",
       "    </tbody>\n",
       "</table>\n",
       "<p>... (449 rows omitted)</p>"
      ],
      "text/plain": [
       "track_id | track_title              | artist_name      | album_title                     | track_duration | track_genre | album_date_released | album_type    | album_tracks\n",
       "145      | Amoebiasis               | Amoebic Ensemble | Amoebiasis                      | 326            | Jazz        | 2009-01-06          | Album         | 0\n",
       "155      | Maps of the Stars Homes  | Arc and Sender   | unreleased demo                 | 756            | Rock        | 2009-01-06          | Single Tracks | 1\n",
       "201      | Big City                 | Ed Askew         | What I Know                     | 210            | Folk        | 2009-01-07          | Album         | 10\n",
       "307      | Out on the farm          | Blah Blah Blah   | Green Collection                | 205            | Rock        | 2007-09-01          | Album         | 0\n",
       "309      | Where are all the people | Blah Blah Blah   | Green Collection                | 229            | Rock        | 2007-09-01          | Album         | 0\n",
       "319      | Complete Shakespeare     | Blah Blah Blah   | Green Collection                | 156            | Rock        | 2007-09-01          | Album         | 0\n",
       "327      | Hands Beckoning          | Blah Blah Blah   | Stripey Collection              | 259            | Rock        | 1982-04-06          | Album         | 0\n",
       "328      | Central Park             | Blah Blah Blah   | Stripey Collection              | 236            | Rock        | 1982-04-06          | Album         | 0\n",
       "350      | Gotta Go                 | Blah Blah Blah   | 30th Anniversary Blah Blah Blah | 101            | Rock        | 2009-01-01          | Album         | 21\n",
       "364      | Sunspot activity         | Blah Blah Blah   | 30th Anniversary Blah Blah Blah | 152            | Rock        | 2009-01-01          | Album         | 21\n",
       "... (449 rows omitted)"
      ]
     },
     "execution_count": 5,
     "metadata": {},
     "output_type": "execute_result"
    }
   ],
   "source": [
    "#load tracks\n",
    "tracks = Table().read_table(\"data/tracks_final.csv\")\n",
    "tracks"
   ]
  },
  {
   "cell_type": "markdown",
   "metadata": {},
   "source": [
    "<br>\n",
    "\n",
    "# Research Report"
   ]
  },
  {
   "cell_type": "markdown",
   "metadata": {},
   "source": [
    "## Introduction\n",
    "\n",
    "For our final project, we analyzed the Free Music Archive data. The dataset was first introduced at the 2017’s Music Information Retrieval (MIR) Conference; it examines the search, gathering, and organization of music collections. The FMA was created in response to the recent call for an amassing of information on features and potential end-to-end learning for today’s ever growing music industry/media platforms. A randomized subset of the FMA was provided in three tables: tracks, genres, and features.\n",
    "\n",
    "The first dataset, `tracks`, provides information on individual tracks’ biographical information. It lists each tracks’ distinct ID, title, artist, album, length (in seconds), genre(s), and release date. Additionally, the table gives the type and number of tracks in album information for each track, including the type and number of tracks.\n",
    "\n",
    "The second dataset is `genres`, which gives a general overview of different genres. Each genre has a different ID, number of tracks, and a descriptor number for its parent genre. A parent genre is exactly as it sounds, a genre that each of the subgenre falls under. The parent genre is 0 if the genre is not a subgenre.\n",
    "\n",
    "Lastly and most important to our report, the `features` dataset provides eight numeric measures to describe each track. Each measure describes a track based on different factors on a scale of 0 to 1, including danceability, acousticness, energy, instrumentalness, liveness, speechiness, tempo, and valence. *Spotify*, a major music streaming platform, also uses these features to characterize its many tracks. Most of the names reflect the characteristics a feature is a measure of, like tempo for example. However, some reflect combined factors into one, like danceability. This measure takes tempo, beat strength, rhythm stability, and overall regularity into account. Together, features help to distinguish tracks from one another."
   ]
  },
  {
   "cell_type": "markdown",
   "metadata": {},
   "source": [
    "## Hypothesis Testing and Prediction Questions\n",
    "\n",
    "**Please bold your hypothesis testing and prediction questions.**\n",
    "\n",
    "Our research report centers around the Electronic genre. Electronic music is any music that primarily involves electronic instruments and processing. One of the most well-known types of Electronic music is Electronic Dance Music, which dominates the music at festivals and nightclubs. We want to determine what qualities make Electronic music so prevalent in today's culture.\n",
    "\n",
    "Our hypothesis question is to **determine whether there are track features that uniquely classify the Electronic genre among all genres included in the dataset**. In other words, we want to determine whether there are track features of the Electronic genre that are significantly different from those of other genres.\n",
    "\n",
    "Our null hypothesis for this question is that there is no relationship between any of the features and whether the track genre is Electronic. Our alternative hypothesis is that there is a relationshp between at least one feature and whether the track genre is Electronic.\n",
    "\n",
    "Similarly, we want to **determine whether we can use the unique features to Electronic music (found in our exploration) to predict the track genre as either Electronic or not Electronic**. We will use a classifier and test its accuracy to see how well the features serve to distinguish the Electronic genre."
   ]
  },
  {
   "cell_type": "markdown",
   "metadata": {},
   "source": [
    "## Exploratory Data Analysis\n",
    "\n",
    "**You may change the order of the plots and tables.**"
   ]
  },
  {
   "cell_type": "markdown",
   "metadata": {},
   "source": [
    "Given our hypothesis testing and prediction questions, we will explore the Free Music Archive data for any patterns between the track features of Electronic and non-Electronic music (all other genres)."
   ]
  },
  {
   "cell_type": "markdown",
   "metadata": {},
   "source": [
    "**Table Requiring a Join Operation:**"
   ]
  },
  {
   "cell_type": "markdown",
   "metadata": {},
   "source": [
    "First, we must join the `tracks` and `features` datasets by *track_id* to be able to explore patterns between genre and features. However, we are only interested in specific columns from the `tracks` dataset."
   ]
  },
  {
   "cell_type": "code",
   "execution_count": 6,
   "metadata": {},
   "outputs": [
    {
     "data": {
      "text/html": [
       "<table border=\"1\" class=\"dataframe\">\n",
       "    <thead>\n",
       "        <tr>\n",
       "            <th>track_genre</th> <th>acousticness</th> <th>danceability</th> <th>energy</th> <th>instrumentalness</th> <th>liveness</th> <th>speechiness</th> <th>tempo</th> <th>valence</th>\n",
       "        </tr>\n",
       "    </thead>\n",
       "    <tbody>\n",
       "        <tr>\n",
       "            <td>Jazz       </td> <td>0.235506    </td> <td>0.438672    </td> <td>0.487752 </td> <td>0.716122        </td> <td>0.0703593</td> <td>0.0472978  </td> <td>120.79 </td> <td>0.650452 </td>\n",
       "        </tr>\n",
       "        <tr>\n",
       "            <td>Rock       </td> <td>0.981657    </td> <td>0.142249    </td> <td>0.912122 </td> <td>0.967294        </td> <td>0.36351  </td> <td>0.087527   </td> <td>91.912 </td> <td>0.0343253</td>\n",
       "        </tr>\n",
       "        <tr>\n",
       "            <td>Folk       </td> <td>0.991813    </td> <td>0.461855    </td> <td>0.543751 </td> <td>0.964922        </td> <td>0.137006 </td> <td>0.0256877  </td> <td>93.945 </td> <td>0.758632 </td>\n",
       "        </tr>\n",
       "        <tr>\n",
       "            <td>Rock       </td> <td>0.77377     </td> <td>0.552026    </td> <td>0.251328 </td> <td>0.568976        </td> <td>0.110743 </td> <td>0.0506326  </td> <td>117.247</td> <td>0.356984 </td>\n",
       "        </tr>\n",
       "        <tr>\n",
       "            <td>Rock       </td> <td>0.335481    </td> <td>0.390263    </td> <td>0.0210674</td> <td>0.937508        </td> <td>0.0890457</td> <td>0.0414906  </td> <td>60.382 </td> <td>0.0399321</td>\n",
       "        </tr>\n",
       "    </tbody>\n",
       "</table>\n",
       "<p>... (454 rows omitted)</p>"
      ],
      "text/plain": [
       "<IPython.core.display.HTML object>"
      ]
     },
     "metadata": {},
     "output_type": "display_data"
    }
   ],
   "source": [
    "# Selects desired 'track_id' and 'track_genre' columns from tracks dataset\n",
    "track_genre = tracks.select('track_id', 'track_genre')\n",
    "\n",
    "# Produces a joined table with each track identified by its genre and features\n",
    "track_features = track_genre.join(\"track_id\", features, \"track_id\").drop(\"track_id\")\n",
    "track_features.show(5)"
   ]
  },
  {
   "cell_type": "markdown",
   "metadata": {},
   "source": [
    "Each track now not only has numerical values scoring its features, but they also have a categorical variable which identifies their genre."
   ]
  },
  {
   "cell_type": "markdown",
   "metadata": {},
   "source": [
    "**Aggregated Data Table:**"
   ]
  },
  {
   "cell_type": "markdown",
   "metadata": {},
   "source": [
    "Here, we group by the track genre to obtain the features' means, the count, and the proportion of each genre. The means give us an overview of features in which the Electronic genre is relatively low or high. Furthermore, the proportions show us which genres are not well-represented in the dataset, leading to potential biases."
   ]
  },
  {
   "cell_type": "code",
   "execution_count": 7,
   "metadata": {},
   "outputs": [
    {
     "data": {
      "text/html": [
       "<table border=\"1\" class=\"dataframe\">\n",
       "    <thead>\n",
       "        <tr>\n",
       "            <th>track_genre</th> <th>acousticness mean</th> <th>danceability mean</th> <th>energy mean</th> <th>instrumentalness mean</th> <th>liveness mean</th> <th>speechiness mean</th> <th>tempo mean</th> <th>valence mean</th> <th>count</th> <th>proportion</th>\n",
       "        </tr>\n",
       "    </thead>\n",
       "    <tbody>\n",
       "        <tr>\n",
       "            <td>Blues              </td> <td>0.864185         </td> <td>0.403876         </td> <td>0.0369754  </td> <td>0.459191             </td> <td>0.107373     </td> <td>0.194458        </td> <td>109.711   </td> <td>0.173708    </td> <td>5    </td> <td>0.0108932 </td>\n",
       "        </tr>\n",
       "        <tr>\n",
       "            <td>Classical          </td> <td>0.984574         </td> <td>0.415197         </td> <td>0.217198   </td> <td>0.770484             </td> <td>0.159672     </td> <td>0.0504625       </td> <td>116.628   </td> <td>0.348397    </td> <td>5    </td> <td>0.0108932 </td>\n",
       "        </tr>\n",
       "        <tr>\n",
       "            <td>Electronic         </td> <td>0.358251         </td> <td>0.563501         </td> <td>0.654221   </td> <td>0.814042             </td> <td>0.174481     </td> <td>0.137173        </td> <td>124.178   </td> <td>0.431734    </td> <td>110  </td> <td>0.239651  </td>\n",
       "        </tr>\n",
       "        <tr>\n",
       "            <td>Folk               </td> <td>0.871855         </td> <td>0.475934         </td> <td>0.237054   </td> <td>0.681802             </td> <td>0.138052     </td> <td>0.0865856       </td> <td>111.318   </td> <td>0.353488    </td> <td>33   </td> <td>0.0718954 </td>\n",
       "        </tr>\n",
       "        <tr>\n",
       "            <td>Hip-Hop            </td> <td>0.406478         </td> <td>0.634572         </td> <td>0.481678   </td> <td>0.369027             </td> <td>0.154905     </td> <td>0.2273          </td> <td>119.384   </td> <td>0.633808    </td> <td>46   </td> <td>0.100218  </td>\n",
       "        </tr>\n",
       "        <tr>\n",
       "            <td>Instrumental       </td> <td>0.705841         </td> <td>0.65102          </td> <td>0.568384   </td> <td>0.813623             </td> <td>0.120427     </td> <td>0.0945196       </td> <td>140.087   </td> <td>0.588319    </td> <td>3    </td> <td>0.00653595</td>\n",
       "        </tr>\n",
       "        <tr>\n",
       "            <td>International      </td> <td>0.946741         </td> <td>0.428739         </td> <td>0.411208   </td> <td>0.694494             </td> <td>0.339504     </td> <td>0.0503096       </td> <td>130.024   </td> <td>0.370637    </td> <td>5    </td> <td>0.0108932 </td>\n",
       "        </tr>\n",
       "        <tr>\n",
       "            <td>Jazz               </td> <td>0.68991          </td> <td>0.351095         </td> <td>0.394555   </td> <td>0.767363             </td> <td>0.18082      </td> <td>0.100749        </td> <td>113.126   </td> <td>0.247142    </td> <td>16   </td> <td>0.0348584 </td>\n",
       "        </tr>\n",
       "        <tr>\n",
       "            <td>Old-Time / Historic</td> <td>0.995794         </td> <td>0.453106         </td> <td>0.178857   </td> <td>0.940991             </td> <td>0.386754     </td> <td>0.281157        </td> <td>115.324   </td> <td>0.61075     </td> <td>8    </td> <td>0.0174292 </td>\n",
       "        </tr>\n",
       "        <tr>\n",
       "            <td>Pop                </td> <td>0.287289         </td> <td>0.481374         </td> <td>0.506816   </td> <td>0.526401             </td> <td>0.169237     </td> <td>0.0487998       </td> <td>119.849   </td> <td>0.462212    </td> <td>13   </td> <td>0.0283224 </td>\n",
       "        </tr>\n",
       "        <tr>\n",
       "            <td>Rock               </td> <td>0.612607         </td> <td>0.402669         </td> <td>0.588934   </td> <td>0.735507             </td> <td>0.177556     </td> <td>0.0670818       </td> <td>128.567   </td> <td>0.440886    </td> <td>215  </td> <td>0.46841   </td>\n",
       "        </tr>\n",
       "    </tbody>\n",
       "</table>"
      ],
      "text/plain": [
       "<IPython.core.display.HTML object>"
      ]
     },
     "metadata": {},
     "output_type": "display_data"
    }
   ],
   "source": [
    "# Group tracks by each genre aggregated by taking the mean\n",
    "grouped_genre = track_features.group(\"track_genre\", np.mean)\n",
    "\n",
    "# Append columns with counts and proportion of each genre\n",
    "num_genre = track_features.group(\"track_genre\").column(1)\n",
    "grouped_genre_counts = grouped_genre.with_columns(\"count\", num_genre,\n",
    "                                          \"proportion\", num_genre/np.sum(num_genre))\n",
    "grouped_genre_counts.show()"
   ]
  },
  {
   "cell_type": "markdown",
   "metadata": {},
   "source": [
    "We noticed how the Electronic genre has the highest energy among all genres. More importantly, there exists only a few samples for some of the genres, like the International genre which has only 3 tracks. Although the Electronic tracks consist of a significant part of our dataset (~24%), we are only concerned about whether a track is Electronic or not Electronic. Therefore, there is significantly more of other genres than Electronic; this might influence our hypothesis testing and prediction.\n",
    "\n",
    "When it comes to our analysis, we will take these factors into account and potentially compensate for the disproportionate amount of tracks among different genres."
   ]
  },
  {
   "cell_type": "markdown",
   "metadata": {},
   "source": [
    "**Qualitative Plot:**"
   ]
  },
  {
   "cell_type": "markdown",
   "metadata": {},
   "source": [
    "We aim to determine whether there is a feature that makes Electronic tracks unique. Therefore, we will make a plot visualizing whether the 'Electronic' genre has a feature with a mean that is greater than or less than most other genres. We will count how many other genres the Electronic genre surpasses (greater than) according to the mean of each feature."
   ]
  },
  {
   "cell_type": "code",
   "execution_count": 8,
   "metadata": {},
   "outputs": [
    {
     "data": {
      "text/plain": [
       "Text(0.5, 1.0, 'Electronic features greater than Other genres')"
      ]
     },
     "execution_count": 8,
     "metadata": {},
     "output_type": "execute_result"
    },
    {
     "data": {
      "image/png": "[encoded data removed]",
      "text/plain": [
       "<Figure size 432x288 with 1 Axes>"
      ]
     },
     "metadata": {},
     "output_type": "display_data"
    }
   ],
   "source": [
    "# Filter 'grouped_genre' table to only contain electronic features\n",
    "electronic_features = grouped_genre.where(\"track_genre\", \"Electronic\")\n",
    "# Select only feature columns\n",
    "electronic_features = electronic_features.drop('track_genre', 'track_id mean')\n",
    "\n",
    "# Array to store the number of genres Electronic is greater than for each respective feature\n",
    "num_greater = make_array()\n",
    "\n",
    "# Append greater than counts to num_greater array\n",
    "for label in electronic_features.labels:\n",
    "    num_greater = np.append(num_greater,\n",
    "                           np.count_nonzero(electronic_features.column(label).item(0) > grouped_genre.column(label)))\n",
    "\n",
    "# Construct table containg feature labels and the respective number of genres Electronic is greater than\n",
    "electronic_greater = Table().with_columns('feature', electronic_features.labels,                    \n",
    "     'Electronic Greater', num_greater)\n",
    "\n",
    "# Plots a horizontal bar chart of the data\n",
    "electronic_greater.barh('feature', 'Electronic Greater')\n",
    "plots.title(\"Electronic features greater than Other genres\")"
   ]
  },
  {
   "cell_type": "markdown",
   "metadata": {},
   "source": [
    "In order to determine potential unique features of Electronic tracks, we must look for relatively short and long bars in the bar chart. These \"extreme\" bars indicate that the features of Electronic tracks are significantly greater than or less than those of other genres.\n",
    "\n",
    "From the bar chart, we can see that the acousticness, danceability, energy, and instrumentalness features of Electronic tracks all stand out. However, the only feature of Electronic tracks with a mean greater than those of all other genres is 'energy'."
   ]
  },
  {
   "cell_type": "markdown",
   "metadata": {},
   "source": [
    "**Quantitative Plot:**"
   ]
  },
  {
   "cell_type": "markdown",
   "metadata": {},
   "source": [
    "Since we are only interested in whether the genre is Electronic, we made a *rename* function below to rename all genres which are not Electronic to \"Other\". We will then group by the renamed genres when performing A/B testing."
   ]
  },
  {
   "cell_type": "code",
   "execution_count": 9,
   "metadata": {},
   "outputs": [],
   "source": [
    "# Renames genres into \"Electronic\" or \"Other\"\n",
    "def rename(genre):\n",
    "    if genre != \"Electronic\":\n",
    "        return \"Other\"\n",
    "    return genre"
   ]
  },
  {
   "cell_type": "markdown",
   "metadata": {},
   "source": [
    "The energy mean of the Electronic genre proved to be the highest among all genres in the dataset. We want to find out just how different the energy distributions are. In the following histogram, we will examine the differences in the distribution of the *energy* feature for the 'Electronic' genre and 'Other' genres."
   ]
  },
  {
   "cell_type": "code",
   "execution_count": 10,
   "metadata": {},
   "outputs": [
    {
     "data": {
      "text/plain": [
       "Text(0.5, 1.0, 'Distribution of energy feature for Electronic and Other')"
      ]
     },
     "execution_count": 10,
     "metadata": {},
     "output_type": "execute_result"
    },
    {
     "data": {
      "image/png": "[encoded data removed]",
      "text/plain": [
       "<Figure size 432x288 with 1 Axes>"
      ]
     },
     "metadata": {},
     "output_type": "display_data"
    }
   ],
   "source": [
    "# Make a new table containing the renamed genres and the features\n",
    "renamed_genre = track_features.with_columns(\n",
    "                    \"renamed_genre\", track_features.apply(rename, \"track_genre\"))\n",
    "\n",
    "# Obtain 'energy' values for 'Electronic' genre\n",
    "electronic_energy = renamed_genre.where(\"renamed_genre\", \"Electronic\").column(\"energy\")\n",
    "\n",
    "# Set the random seed so that we obtain the same samples from the \"Other\" genre, reproducible histogram\n",
    "np.random.seed(16)\n",
    "\n",
    "# Must limit number of samples from 'Other' genre to match number of samples from \"Electronic\" genre\n",
    "sample_other = renamed_genre.where(\"renamed_genre\", \"Other\").sample(len(electronic_energy),\n",
    "                                                                          with_replacement=False)\n",
    "\n",
    "# Obtain 'energy' for all 'Other' genres\n",
    "other_energy = sample_other.column(\"energy\")\n",
    "\n",
    "# Graph overlayed histograms of 'energy' for the 'Electronic' genre and for 'Other' genres\n",
    "energy = Table().with_columns(\"Electronic\", electronic_energy,\n",
    "                              \"Other\", other_energy)\n",
    "energy.hist()\n",
    "plots.title(\"Distribution of energy feature for Electronic and Other\")"
   ]
  },
  {
   "cell_type": "markdown",
   "metadata": {},
   "source": [
    "The distribution of *energy* for Other genres is more or less uniform across the graph. The distribution of *energy* for the Electronic genre is skewed left with a mode at its far right. The histogram shows how the electronic genre contains mostly tracks that have higher energy scores relative to other genres."
   ]
  },
  {
   "cell_type": "markdown",
   "metadata": {},
   "source": [
    "## Hypothesis Testing\n",
    "\n",
    "**Do not copy code from demo notebooks or homeworks! You may split portions of your code into distinct cells. Also, be sure to\n",
    "set a random seed so that your results are reproducible.**"
   ]
  },
  {
   "cell_type": "markdown",
   "metadata": {},
   "source": [
    "Next, we apply hypothesis testing to determine whether this difference of Electronic tracks containing higher energy is statistically significant. This would indicate whether there is a relationship between the energy feature and whether the genre is Electronic.\n",
    "\n",
    "Therefore, our null hypothesis is that there is no relationship between any of the features and whether the genre is Electronic. Our alternative hypothesis is that there is a relationshp between at least one feature (energy) and whether the genre is Electronic.\n",
    "\n",
    "We use A/B testing as our procedure because we are evaluating the association between a numerical variable and a binary categorical variable (how does the energy feature change if Electronic or not Electronic). The test statistic is the difference of *energy* means between the *Electronic* genre and *Other* genres. So, the larger the magnitude of the statistic, the more it favors the alternative hypothesis. We decided on a significance cutoff of 5% (p = 0.05)."
   ]
  },
  {
   "cell_type": "markdown",
   "metadata": {},
   "source": [
    "In the test statistic function below, we first grouped by the original genres, then we grouped again by the renamed genres. The purpose of this is to compensate for the unequal sample sizes between the genres, as noted in our Aggregated Data Table section of our report. If we only group by the renamed genres, the aggregated mean for the *Other* genre will be skewed towards the more common genres in the dataset (ie. Rock). On the other hand, grouping by the original genres first gives each genre equal weighting for when we group again by the *Other* genre. However, this does not remedy the inaccuracy of the genres due a significantly low sample size."
   ]
  },
  {
   "cell_type": "code",
   "execution_count": 11,
   "metadata": {},
   "outputs": [],
   "source": [
    "# Returns the difference between the means of two columns\n",
    "def difference_of_means(table, label, group_label):\n",
    "    # Select desired label\n",
    "    filtered_table = table.select(group_label, label)\n",
    "    \n",
    "    # Group table by inputted label, aggregated by taking the mean\n",
    "    means_table = filtered_table.group(group_label, np.mean)\n",
    "\n",
    "    # Construct new table with renamed genres and the desired label\n",
    "    group_renamed = Table().with_columns(\"renamed_genre\", means_table.apply(rename, group_label),\n",
    "                                        label, means_table.column(1))\n",
    "\n",
    "    # Group tracks by \"Electronic\" and \"Other\" genres, aggregated by taking the mean\n",
    "    binary_genre = group_renamed.group(\"renamed_genre\", np.mean)\n",
    "\n",
    "    # Obtain array containing means of label\n",
    "    means = binary_genre.column(1)\n",
    "\n",
    "    # Return difference between means of the two groups\n",
    "    return means.item(0) - means.item(1)"
   ]
  },
  {
   "cell_type": "code",
   "execution_count": 12,
   "metadata": {},
   "outputs": [],
   "source": [
    "# Returns the difference between the means of two groups formed by randomly shuffling all the labels\n",
    "def one_simulated_difference(table, label, group_label):\n",
    "    # Obtain array containing shuffled group labels\n",
    "    shuffled_labels = table.sample(with_replacement = False).column(group_label)\n",
    "    \n",
    "    # Construct new table containing unshuffled labels but shuffled group labels\n",
    "    shuffled_table = table.select(label).with_column('Shuffled Label', shuffled_labels)\n",
    "    \n",
    "    # Return the the difference of means with the shuffled labels\n",
    "    return difference_of_means(shuffled_table, label, 'Shuffled Label')   "
   ]
  },
  {
   "cell_type": "markdown",
   "metadata": {},
   "source": [
    "We calculated 5000 simulations of the difference in energy means under then null hypothesis"
   ]
  },
  {
   "cell_type": "code",
   "execution_count": 13,
   "metadata": {},
   "outputs": [
    {
     "data": {
      "text/plain": [
       "array([-0.03086453, -0.03534689, -0.01119632, ...,  0.02140291,\n",
       "       -0.04628112,  0.03343805])"
      ]
     },
     "execution_count": 13,
     "metadata": {},
     "output_type": "execute_result"
    }
   ],
   "source": [
    "# Set the random seed so that the histogram and p-value are reproducible\n",
    "np.random.seed(4429)\n",
    "\n",
    "# Calculates the simulated test statistic for each repetition and stores in 'differences' array\n",
    "differences = make_array()\n",
    "repetitions = 5000\n",
    "\n",
    "for i in np.arange(repetitions):\n",
    "    new_difference = one_simulated_difference(track_features, 'energy', 'track_genre')\n",
    "    differences = np.append(differences, new_difference)\n",
    "differences"
   ]
  },
  {
   "cell_type": "markdown",
   "metadata": {},
   "source": [
    "The histogram below shows the distribution of the differences in means under the null hypothesis that there is no relationship between the Energy feature and whether a track is Electronic.\n",
    "\n",
    "We see how the observed test statistic is not remotely close to the distribution of the null hypothesis, concluding that the actual distribution is different."
   ]
  },
  {
   "cell_type": "code",
   "execution_count": 14,
   "metadata": {},
   "outputs": [
    {
     "name": "stdout",
     "output_type": "stream",
     "text": [
      "Observed Test Statistic: 0.2920545631557419\n"
     ]
    },
    {
     "data": {
      "image/png": "[encoded data removed]",
      "text/plain": [
       "<Figure size 432x288 with 1 Axes>"
      ]
     },
     "metadata": {},
     "output_type": "display_data"
    }
   ],
   "source": [
    "# Plots histogram of simulated test statistics\n",
    "Table().with_column('Difference Between Group Means', differences).hist()\n",
    "plots.title('Prediction Under the Null Hypothesis')\n",
    "plots.xlabel(\"Difference of Mean Energy\")\n",
    "\n",
    "# Calculates the obeserved test statistic\n",
    "observed_difference = difference_of_means(track_features, 'energy', 'track_genre')\n",
    "\n",
    "# Plots a point on the histogram representing the observed test statistic\n",
    "plots.scatter(observed_difference, 0, color='red', s=30, zorder=2);\n",
    "\n",
    "print('Observed Test Statistic:', observed_difference)"
   ]
  },
  {
   "cell_type": "code",
   "execution_count": 15,
   "metadata": {},
   "outputs": [
    {
     "data": {
      "text/plain": [
       "0.0"
      ]
     },
     "execution_count": 15,
     "metadata": {},
     "output_type": "execute_result"
    }
   ],
   "source": [
    "# Calculates the p-value by taking the number of simulated test statistics\n",
    "# that equal or exceed the obeserved test statistic divided by the number of repetitions\n",
    "p_value = np.count_nonzero(differences >= observed_difference) / repetitions\n",
    "p_value"
   ]
  },
  {
   "cell_type": "markdown",
   "metadata": {},
   "source": [
    "The proportion of data which is greater than or equal to the observed test statistic is 0, which is less than our significance cutoff of 0.05. This reveals that the distributions of the energy feature between *Electronic* and *Other* are not the same.\n",
    "\n",
    "Therefore, the result is inconsistent with the null hypothesis, and therefore accepting the alternative hypothesis. Since the electronic genre has significantly lower energy compared to the other genres, there is sufficient evidence that there is a relationship between at least one feature (energy) and whether the genre is Electronic."
   ]
  },
  {
   "cell_type": "markdown",
   "metadata": {},
   "source": [
    "## Prediction\n",
    "\n",
    "**Be sure to set a random seed so that your results are reproducible.**"
   ]
  },
  {
   "cell_type": "markdown",
   "metadata": {},
   "source": [
    "In our hypothesis testing, we observed how there is a significant difference between the energy feature of Electronic music and other music. Additionally, we will develop a classifier to evaluate how well these unique features, like energy, determine whether a track is Electronic.\n",
    "\n",
    "The prediction method we will use is k-Nearest Neighbors because we are working with a categorical dependent variable. Linear regression requires a continuous dependent variable. We will split the renamed_genre table into training and testing datasets. By comparing the features of the training data to those of a test row, we are able to find its nearest neighbors and the most common genre. We then test the accuracy of our classifier by dividing the number of genres identified correctly by the total number of tracks in the test set."
   ]
  },
  {
   "cell_type": "code",
   "execution_count": 16,
   "metadata": {},
   "outputs": [],
   "source": [
    "# Set the random seed so that the train and test datasets and accuracy are reproducible\n",
    "np.random.seed(4429)\n",
    "\n",
    "# Shuffles the table by resampling\n",
    "shuffled_table = renamed_genre.sample(with_replacement = False)\n",
    "\n",
    "# 80:20 split for training and test datasets\n",
    "train = shuffled_table.take(np.arange(367))\n",
    "test = shuffled_table.take(np.arange(367,459))\n",
    "\n",
    "# Returns the Euclidean distance of two arrays\n",
    "def distance(arr1, arr2):\n",
    "    return np.sqrt(np.sum((arr1 - arr2)**2))\n",
    "\n",
    "# Converts the row of a table into an array\n",
    "def row_to_array(row, features):\n",
    "    arr = make_array()\n",
    "    for feature in features:\n",
    "        arr = np.append(arr, row.item(feature))\n",
    "    return arr\n",
    "\n",
    "# Classifies the genre of a track from the test set using the given features\n",
    "def classify(row, features):\n",
    "    # Convert test row into an array\n",
    "    test_row_features_array = row_to_array(row, features)\n",
    "    \n",
    "    # Calculate distances between the features of the test row to each training row\n",
    "    distances = make_array()\n",
    "    for train_row in train.rows:\n",
    "        train_row_features_array = row_to_array(train_row, features)\n",
    "        row_distance = distance(test_row_features_array, train_row_features_array)\n",
    "        distances = np.append(distances, row_distance)\n",
    "        \n",
    "    # Append distances to the train dataset so we can examine their respective genres\n",
    "    train_with_distances = train.with_column(\"Distance\", distances)\n",
    "    \n",
    "    # Obtain three nearest neighbors\n",
    "    nearest_neighbors = train_with_distances.sort(\"Distance\").take(np.arange(3))\n",
    "    \n",
    "    # Identify most common genre\n",
    "    most_common_label = nearest_neighbors.group('renamed_genre').sort('count').column(0).item(0)\n",
    "    return most_common_label"
   ]
  },
  {
   "cell_type": "markdown",
   "metadata": {},
   "source": [
    "We defined two functions below to compare the accuracy of our classifier using just the energy feature versus using the acousticness, danceability, energy and instrumentalness features."
   ]
  },
  {
   "cell_type": "code",
   "execution_count": 17,
   "metadata": {},
   "outputs": [
    {
     "name": "stdout",
     "output_type": "stream",
     "text": [
      "The accuracy of our classifier using only energy as our feature is: 0.5543478260869565\n",
      "The accuracy of our classifier using acousticness, danceability, energy and instrumentalness as our features is: 0.8260869565217391\n"
     ]
    }
   ],
   "source": [
    "def energy_classify(row):\n",
    "    return classify(row, make_array('energy'))\n",
    "\n",
    "def features_classify(row):\n",
    "    features = make_array(\"acousticness\", \"danceability\", \"energy\", \n",
    "                          \"instrumentalness\")\n",
    "    return classify(row, features)\n",
    "\n",
    "# Obtain prediction of each row in the test set using only energy feature\n",
    "energy_prediction = test.with_column(\"prediction\", test.apply(energy_classify))\n",
    "# Number of predictions correct\n",
    "energy_labels_correct = np.count_nonzero(energy_prediction.column(\"prediction\") == test.column(\"renamed_genre\"))\n",
    "# Calculate accuracy by dividing the number of genres identified correctly by the total number of tracks in the test set\n",
    "energy_accuracy = energy_labels_correct/energy_prediction.num_rows\n",
    "print(\"The accuracy of our classifier using only energy as our feature is:\", energy_accuracy)\n",
    "\n",
    "# Calculate accuracy same as above but using the four features\n",
    "test_with_prediction = test.with_column(\"prediction\", test.apply(features_classify))\n",
    "labels_correct = np.count_nonzero(test_with_prediction.column(\"prediction\") == test.column(\"renamed_genre\"))\n",
    "accuracy = labels_correct/test_with_prediction.num_rows\n",
    "print(\"The accuracy of our classifier using acousticness, danceability, energy and instrumentalness as our features is:\", accuracy)"
   ]
  },
  {
   "cell_type": "markdown",
   "metadata": {},
   "source": [
    "Although the energy of Electronic music is significantly different from that of other genres, our classifier only had an accuracy of 55% when only using energy as the feature. This is not much better than guessing the genre.\n",
    "\n",
    "Therefore, we also included other features that stood out in our Qualitative Plot: acousticness, danceability, energy and instrumentalness. These features had relatively low or high means for the Electronic among all genres. This increased the accuracy of our classifier to 83%.\n",
    "\n",
    "As a result, the energy feature alone is not sufficient to accurately predict whether a track is Electronic. However, the four features fit the data well and can be used to distinguish Electronic music. \n",
    "\n",
    "Moreover, we are not confident in using the classifier to predict the outcome of new data points. Despite the high accuracy with the test set, there might be bias in how the original datasets were gathered. More importantly, a significant number (47%) of our tracks were Rock, so we cannot be confident in predicting the outcome for genres with smaller sample sizes (since they are not representative in the test set). "
   ]
  },
  {
   "cell_type": "markdown",
   "metadata": {},
   "source": [
    "## Conclusion\n",
    "\n",
    "To conclude, our research report identifies whether track features were associated with whether the genre is Electronic, which we found true with the energy feature through A/B testing. The Electronic genre had a larger energy feature than any other genres on average. However, this relationship does not mean that there is necessarily an association between energy and each of the other genres. In turn, we were able to produce a classifier with 55% accuracy considering only the energy feature, whereas we can accurately determine (83%) the genre using the four features: acousticness, danceability, energy, and instrumentalness. \n",
    "\n",
    "Since this dataset was a subset of a larger one, there could be potential biases especially in the variety and choice of tracks/genres (doesn't seem to be random based on count of each genre). Additionally, the unqual number of tracks available per genre potentially skewed our results (ie. prediction method mainly classified the Rock genre and not others). There also seems to be counfounding factors as indicated by our mediocre accuracy, so we must also consider other variables like track duration.\n"
   ]
  },
  {
   "cell_type": "markdown",
   "metadata": {},
   "source": [
    "## Presentation\n",
    "\n",
    "*In this section, you'll need to provide a link to your video presentation. If you've uploaded your presentation to YouTube,\n",
    "you can include the URL in the code below. We've provided an example to show you how to do this. Otherwise, provide the link\n",
    "in a markdown cell.*\n",
    "\n",
    "**Link:** https://www.youtube.com/watch?v=IcKqHfWL12Q"
   ]
  },
  {
   "cell_type": "code",
   "execution_count": 20,
   "metadata": {},
   "outputs": [
    {
     "data": {
      "image/jpeg": "[encoded data removed]",
      "text/html": [
       "\n",
       "        <iframe\n",
       "            width=\"400\"\n",
       "            height=\"300\"\n",
       "            src=\"https://www.youtube.com/embed/IcKqHfWL12Q\"\n",
       "            frameborder=\"0\"\n",
       "            allowfullscreen\n",
       "        ></iframe>\n",
       "        "
      ],
      "text/plain": [
       "<IPython.lib.display.YouTubeVideo at 0x7f83da3d6e48>"
      ]
     },
     "execution_count": 20,
     "metadata": {},
     "output_type": "execute_result"
    }
   ],
   "source": [
    "# Full Link: https://www.youtube.com/watch?v=IcKqHfWL12Q\n",
    "# Plug in string between \"v=\" and \"\"&feature\":\n",
    "YouTubeVideo('IcKqHfWL12Q')"
   ]
  },
  {
   "cell_type": "markdown",
   "metadata": {},
   "source": [
    "# Submission\n",
    "\n",
    "*Just as with the other assignments in this course, please submit your research notebook to Okpy. We suggest that you\n",
    "submit often so that your progress is saved.*"
   ]
  },
  {
   "cell_type": "code",
   "execution_count": 21,
   "metadata": {},
   "outputs": [
    {
     "data": {
      "application/javascript": [
       "IPython.notebook.save_checkpoint();"
      ],
      "text/plain": [
       "<IPython.core.display.Javascript object>"
      ]
     },
     "metadata": {},
     "output_type": "display_data"
    },
    {
     "data": {
      "application/javascript": [
       "IPython.notebook.save_notebook();"
      ],
      "text/plain": [
       "<IPython.core.display.Javascript object>"
      ]
     },
     "metadata": {},
     "output_type": "display_data"
    },
    {
     "name": "stdout",
     "output_type": "stream",
     "text": [
      "Saving notebook... Saved 'music-final-project.ipynb'.\n",
      "Submit... 100% complete\n",
      "Submission successful for user: tarususu.t3@berkeley.edu\n",
      "URL: https://okpy.org/cal/data8/su20/music/submissions/rmWkmw\n",
      "\n"
     ]
    }
   ],
   "source": [
    "# Run this line to submit your work\n",
    "_ = ok.submit()"
   ]
  },
  {
   "cell_type": "code",
   "execution_count": null,
   "metadata": {},
   "outputs": [],
   "source": []
  }
 ],
 "metadata": {
  "kernelspec": {
   "display_name": "Python 3",
   "language": "python",
   "name": "python3"
  },
  "language_info": {
   "codemirror_mode": {
    "name": "ipython",
    "version": 3
   },
   "file_extension": ".py",
   "mimetype": "text/x-python",
   "name": "python",
   "nbconvert_exporter": "python",
   "pygments_lexer": "ipython3",
   "version": "3.6.11"
  }
 },
 "nbformat": 4,
 "nbformat_minor": 4
}
